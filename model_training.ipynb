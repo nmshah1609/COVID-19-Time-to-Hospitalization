{
 "cells": [
  {
   "cell_type": "code",
   "execution_count": 236,
   "metadata": {},
   "outputs": [],
   "source": [
    "import pandas as pd\n",
    "from category_encoders.one_hot import OneHotEncoder\n",
    "from matplotlib import pyplot as plt\n",
    "import numpy as np\n",
    "import itertools"
   ]
  },
  {
   "cell_type": "code",
   "execution_count": 237,
   "metadata": {},
   "outputs": [],
   "source": [
    "def process_age(df):\n",
    "    # Temporarily fill na values with an absurd int\n",
    "    df['age'].fillna(value= '200',inplace=True)\n",
    "\n",
    "    # Get the index for all age values that are not numerics, then split those at \"-\" and store in temp series\n",
    "    inx1 = ~ df['age'].apply(lambda x: x.isnumeric())\n",
    "    temp = df.loc[inx1,'age'].str.split('-')\n",
    "\n",
    "    # loop over splits, if single convert to str int, if 2 values then calculate midpoint.\n",
    "    for inx2,ls in enumerate(temp):\n",
    "        if len(ls) == 1:\n",
    "            temp.iloc[inx2] = str(round(float(ls[0])))\n",
    "        if len(ls) == 2:\n",
    "            temp.iloc[inx2] = str(round(float(((int(ls[0]) + int(ls[1]))/2))))\n",
    "    # replace the original age values with the processed values\n",
    "    df.loc[inx1,'age'] = temp\n",
    "\n",
    "    # Now deal with the NA values, replace with the group mean\n",
    "    inx1 = df.loc[:,'age']=='200'\n",
    "    df.loc[inx1,'age'] = str(int(df.loc[~inx1,'age'].astype(int).mean().round(0)))\n",
    "\n",
    "    # Now replace strings with ints for better memory allocation\n",
    "    df.loc[:,'age'] = df.loc[:,'age'].apply(int)\n",
    "    \n",
    "    df['age'] = np.log(df['age'])\n",
    "    return df\n",
    "# def process_age(df):\n",
    "#     #calculate mean\n",
    "#     ################need help with the floats###############\n",
    "#     df1 = df[df['age']!='1.75']\n",
    "#     index=df1['age'].str.find('-',0)\n",
    "#     index=index<=0\n",
    "#     mu=str(round(df1.loc[index,'age'].astype(int).mean(),0))\n",
    "\n",
    "#     # fill na with the mean values\n",
    "#     df['age'].fillna(value= mu,inplace=True)\n",
    "\n",
    "#     # Get the index for all age values that are not numerics, then split those at \"-\" and store in temp series\n",
    "#     inx1 = ~ df['age'].apply(lambda x: x.isnumeric())\n",
    "#     temp = df.loc[inx1,'age'].str.split('-')\n",
    "#     temp_max= df.loc[inx1,'age'].str.split('-')\n",
    "#     temp_min= df.loc[inx1,'age'].str.split('-')\n",
    "#     temp_range= df.loc[inx1,'age'].str.split('-')\n",
    "#     # loop over splits:\n",
    "#     # temp: mid point of the two values\n",
    "#     # temp_max: higher value of two values\n",
    "#     # temp_min: lower value of two values\n",
    "#     # temp_range: if range value then = 1, else = 0\n",
    "\n",
    "#     for inx2,ls in enumerate(temp):\n",
    "#         if len(ls) == 1:\n",
    "#             temp.iloc[inx2] = str(round(float(ls[0])))\n",
    "#             temp_max.iloc[inx2]=str(round(float(ls[0])))\n",
    "#             temp_min.iloc[inx2]=str(round(float(ls[0])))\n",
    "#             temp_range.iloc[inx2]=0\n",
    "#         if len(ls) == 2:\n",
    "#             temp.iloc[inx2] = str(round(float(((int(ls[0]) + int(ls[1]))/2))))\n",
    "#             temp_min.iloc[inx2] = str(round(float((int(ls[0])))))\n",
    "#             temp_max.iloc[inx2] = str(round(float((int(ls[1]))))) \n",
    "#             temp_range.iloc[inx2]=1\n",
    "\n",
    "#     #missing values\n",
    "#     missing=df['age'].isnull().astype(int)\n",
    "\n",
    "#     #create age_min, age_max, age_missing, age_range\n",
    "#     df['age_min']=df['age']\n",
    "#     df['age_max']=df['age']\n",
    "#     df['age_missing'] = missing\n",
    "#     df['age_range'] = 0\n",
    "\n",
    "#     df.loc[inx1,'age'] = temp\n",
    "#     df.loc[inx1,'age_min'] = temp_min\n",
    "#     df.loc[inx1,'age_max'] = temp_max\n",
    "#     df.loc[inx1,'age_range'] = temp_range\n",
    "    \n",
    "#     df.loc[:,['age']] = df['age'].apply(int)\n",
    "#     df.loc[:,['age_min']] = df['age_min'].apply(int)\n",
    "#     df.loc[:,['age_max']] = df['age_max'].apply(int)\n",
    "#     df.loc[:,['age_range']] = df['age_range'].apply(int)\n",
    "\n",
    "\n",
    "#     return df\n",
    "\n",
    "def process_symptoms(df):\n",
    "    # takes symptoms column and seperates each symptom into its own column\n",
    "\n",
    "    # replace NaN with Asymptomatic\n",
    "    df['symptoms'].fillna('Asymptomatic',inplace=True)\n",
    "\n",
    "    #split symptoms on \";\"\n",
    "    splits = df['symptoms'].str.split(';').values\n",
    "\n",
    "    # extract array into list of list\n",
    "    listOfLists = [split for split in splits]\n",
    "\n",
    "    # Get unique list of all symptoms \n",
    "    symptoms = list(set(list(itertools.chain.from_iterable(listOfLists))))\n",
    "\n",
    "    # create array of zeros for one hot encoding\n",
    "    holder = np.zeros((len(df),len(symptoms)))\n",
    "\n",
    "    # Go through dataframe and record individual symptoms\n",
    "    for inx,person in enumerate(df['symptoms']):\n",
    "        symptoms_ls = person.split(';')\n",
    "        for symptom in symptoms_ls:\n",
    "            ls_index = symptoms.index(symptom)\n",
    "            holder[inx,ls_index] = 1\n",
    "\n",
    "    temp_df = pd.DataFrame(data = holder, columns = symptoms)\n",
    "    # Add temp_df to main df\n",
    "    df = pd.concat([df, temp_df],axis=1)\n",
    "\n",
    "    # Drop the old symptoms column (commented for now to bug-check)\n",
    "    df.drop('symptoms', inplace=True, axis=1)\n",
    "\n",
    "    return df\n",
    "def symptom_combiner(df, symptoms_to_combine, master_list, newcol_name):\n",
    "    '''\n",
    "    Combines passed symptoms into a single column named accordingly\n",
    "    Assumes that the symptoms have been one hot encoded previously\n",
    "    '''\n",
    "    list_intersect = list(set(symptoms_to_combine) & set(master_list))\n",
    "    temp_df = df.loc[:,list_intersect]\n",
    "    temp_df['sum'] = temp_df.sum(axis=1)\n",
    "\n",
    "    sum_col= (temp_df['sum'] >=1).apply(int)\n",
    "\n",
    "    df.drop(list_intersect, inplace=True, axis=1)\n",
    "    df[newcol_name] = sum_col\n",
    "\n",
    "    return df\n",
    "\n",
    "def encode_symtoms(df, train = True):\n",
    "    if train:\n",
    "        master_symp_list = [' sputum', ' conjunctivitis', ' runny nose',\n",
    "       ' shortness of breath', 'low fever 37.0 ℃', ' weak', 'myalgia',\n",
    "       'pneumonia', ' rhinorrhea', ' sore throat', 'low fever (37.2 ° C)',\n",
    "       'physical discomfort', ' shortness breath', 'sore throat', 'discomfort',\n",
    "       'severe dyspnea', 'pneumonitis', 'chest distress', ' expectoration',\n",
    "       ' cough', ' malaise', ' nasal congestion', 'chest pain', 'headache',\n",
    "       ' sneeze', 'dry cough', ' severe pneumonia', ' myalgia', ' headache',\n",
    "       'fever (39.5 ℃)', 'diarrhea', ' dry mouth', 'muscular soreness',\n",
    "       ' muscle ache', 'fever 37.7℃', ' muscular soreness', 'Asymptomatic',\n",
    "       'systemic weakness', 'chills', 'fatigue', ' respiratory symptoms',\n",
    "       ' weakness', ' nausea', 'nausea', ' vomiting', ' throat discomfort',\n",
    "       ' muscular stiffness', 'poor physical condition', ' fatigue',\n",
    "       'Pharyngeal dryness', 'respiratory symptoms', 'fever',\n",
    "       'fever (38-39 ° C)', 'acute pharyngitis', ' fever', ' diarrhoea',\n",
    "       'Sore throat', 'cough', ' diarrheoa']\n",
    "    else:\n",
    "        master_symp_list = [' runny nose', ' shortness of breath', ' weak', 'pharynx',\n",
    "           ' sore throat', 'chest tightness', 'pneumonia', ' other symptoms',\n",
    "           ' fever (38-39 ℃)', ' discomfort', ' fever (37 ℃)', 'sore throat',\n",
    "           ' dry cough', 'fever 38.3', ' nasal congestion', ' pneumonia',\n",
    "           'pneumonitis', ' cough', ' expectoration', ' sneezing', 'anhelation',\n",
    "           'flu-like symptoms', ' sore body', ' myalgia', ' high fever',\n",
    "           ' headache', ' toothache', ' dizziness', 'weakness', ' rhinorrhoea',\n",
    "           ' dry mouth', 'diarrhea', 'pharyngeal discomfort', ' general malaise',\n",
    "           ' muscular soreness', ' difficulty breathing', 'fever 37.7℃',\n",
    "           ' pleuritic chest pain', 'Asymptomatic', 'feeling ill', ' cold',\n",
    "           ' joint pain', ' pleural effusion', 'chills', 'fatigue', ' weakness',\n",
    "           ' respiratory symptoms', ' nausea', ' coughing', 'abdominal pain',\n",
    "           ' soreness', ' throat discomfort', ' dyspnea', 'nausea', 'malaise',\n",
    "           ' fatigue', 'respiratory symptoms', 'anorexia', 'fever',\n",
    "           ' pharyngeal discomfort', ' dry throat', ' fever', 'dry throat',\n",
    "           'cough', ' diarrhea', 'low fever (37.4 ℃)']\n",
    "        \n",
    "#     process fever\n",
    "    symptoms_to_combine = [' fever','fever (38-39 ° C)','low fever 37.0 ℃','fever 37.7℃','fever (39.5 ℃)',\n",
    "                           'low fever (37.2 ° C)','fever', ' fever (38-39 ℃)',' fever (37 ℃)',\n",
    "                           'fever 38.3',' high fever','low fever (37.4 ℃)','fever']\n",
    "    newcol_name = 'fever'\n",
    "    df = symptom_combiner(df, symptoms_to_combine, master_symp_list, newcol_name )\n",
    "    \n",
    "    # Malaise\n",
    "    symptoms_to_combine = [' general malaise','malaise',' malaise']\n",
    "    newcol_name = 'malaise'\n",
    "    df = symptom_combiner(df, symptoms_to_combine, master_symp_list, newcol_name )\n",
    "    \n",
    "    # Weakness\n",
    "    symptoms_to_combine = [' weak','weakness',' weakness','systemic weakness']\n",
    "    newcol_name = 'weakness'\n",
    "    df = symptom_combiner(df, symptoms_to_combine, master_symp_list, newcol_name )\n",
    "    \n",
    "    #Chest pains\n",
    "    symptoms_to_combine = ['chest tightness',' pleuritic chest pain','chest distress','chest pain']\n",
    "    newcol_name = 'chest pains'\n",
    "    df = symptom_combiner(df, symptoms_to_combine, master_symp_list, newcol_name )\n",
    "    \n",
    "    # Throat problems\n",
    "    symptoms_to_combine = ['pharynx',' sore throat','sore throat','pharyngeal discomfort','throat discomfort',\n",
    "                          ' pharyngeal discomfort',' dry throat','dry throat',' throat discomfort','Sore throat',\n",
    "                          'Pharyngeal dryness','acute pharyngitis']\n",
    "    newcol_name = 'throat problems'\n",
    "    \n",
    "    df = symptom_combiner(df, symptoms_to_combine, master_symp_list, newcol_name )\n",
    "    \n",
    "    # Pneumonia\n",
    "    symptoms_to_combine = ['pneumonia',' pneumonia','pneumonitis',' severe pneumonia']\n",
    "    newcol_name = 'pneumonia'\n",
    "    df = symptom_combiner(df, symptoms_to_combine, master_symp_list, newcol_name )\n",
    "    \n",
    "    # Coughs\n",
    "    symptoms_to_combine = [' dry cough',' cough',' coughing','cough','dry cough'] + ['respiratory symptoms',' respiratory symptoms']\n",
    "    newcol_name = 'coughs'\n",
    "    df = symptom_combiner(df, symptoms_to_combine, master_symp_list, newcol_name )\n",
    "    \n",
    "    # Muscle pain\n",
    "    symptoms_to_combine = ['anhelation',' muscular soreness',' soreness', ' myalgia','myalgia','muscular soreness',\n",
    "                          ' muscle ache',' muscular stiffness']\n",
    "    newcol_name = 'muscle pain'\n",
    "    df = symptom_combiner(df, symptoms_to_combine, master_symp_list, newcol_name )\n",
    "    \n",
    "    # Nausea\n",
    "    symptoms_to_combine = [' nausea','nausea']\n",
    "    newcol_name = 'nausea'\n",
    "    df = symptom_combiner(df, symptoms_to_combine, master_symp_list, newcol_name )\n",
    "    \n",
    "    # Shortness of breath\n",
    "    symptoms_to_combine = [' shortness of breath',' difficulty breathing',' dyspnea',' shortness breath','severe dyspnea']\n",
    "    newcol_name = 'shortness/difficulty breathing'\n",
    "    df = symptom_combiner(df, symptoms_to_combine, master_symp_list, newcol_name )\n",
    "    \n",
    "    # Diarrhea\n",
    "    symptoms_to_combine = [' diarrhea',' diarrhoea',' diarrheoa','diarrhea']\n",
    "    newcol_name = 'diarrhea'\n",
    "    df = symptom_combiner(df, symptoms_to_combine, master_symp_list, newcol_name )\n",
    "    \n",
    "    # respiratory symptoms\n",
    "#     symptoms_to_combine = ['respiratory symptoms',' respiratory symptoms']\n",
    "#     newcol_name = 'respiratory symptoms'\n",
    "#     df = symptom_combiner(df, symptoms_to_combine, master_symp_list, newcol_name )\n",
    "    \n",
    "    \n",
    "    # discomfort\n",
    "    symptoms_to_combine = ['discomfort',' discomfort','physical discomfort'] + ['headache',' headache']\n",
    "    newcol_name = 'discomfort'\n",
    "    df = symptom_combiner(df, symptoms_to_combine, master_symp_list, newcol_name )\n",
    "   \n",
    "    # headache\n",
    "#     symptoms_to_combine = ['headache',' headache']\n",
    "#     newcol_name = 'headache'\n",
    "#     df = symptom_combiner(df, symptoms_to_combine, master_symp_list, newcol_name )\n",
    "    \n",
    "    # fatigue\n",
    "    symptoms_to_combine = ['fatigue',' fatigue']\n",
    "    newcol_name = 'fatigue'\n",
    "    df = symptom_combiner(df, symptoms_to_combine, master_symp_list, newcol_name )\n",
    "    \n",
    "    # cold/chills\n",
    "    symptoms_to_combine = [' cold','feeling ill','chills','flu-like symptoms']\n",
    "    newcol_name = 'cold/chills'\n",
    "    df = symptom_combiner(df, symptoms_to_combine, master_symp_list, newcol_name )\n",
    "    \n",
    "   \n",
    "    return df\n",
    "\n"
   ]
  },
  {
   "cell_type": "code",
   "execution_count": 238,
   "metadata": {},
   "outputs": [
    {
     "data": {
      "text/plain": [
       "Index(['age', 'sex', 'city', 'province', 'country', 'V1', 'confirmed',\n",
       "       'symptoms', 'outcome', 'duration'],\n",
       "      dtype='object')"
      ]
     },
     "execution_count": 238,
     "metadata": {},
     "output_type": "execute_result"
    }
   ],
   "source": [
    "train = pd.read_csv(r'train2.txt')\n",
    "train.columns"
   ]
  },
  {
   "cell_type": "code",
   "execution_count": 239,
   "metadata": {},
   "outputs": [
    {
     "name": "stderr",
     "output_type": "stream",
     "text": [
      "C:\\Users\\justi\\anaconda3\\envs\\stat440m1\\lib\\site-packages\\category_encoders\\utils.py:21: FutureWarning: is_categorical is deprecated and will be removed in a future version.  Use is_categorical_dtype instead\n",
      "  elif pd.api.types.is_categorical(cols):\n"
     ]
    }
   ],
   "source": [
    "test = pd.read_csv(r'test2.txt')\n",
    "train = pd.read_csv(r'train2.txt')\n",
    "\n",
    "# Extract the feature cols\n",
    "feature_cols = ['age','sex','country','province','V1','symptoms','duration']\n",
    "\n",
    "train = train.loc[:, feature_cols]\n",
    "# Process age feature\n",
    "train = process_age(train)\n",
    "# Process symptoms\n",
    "train = process_symptoms(train)\n",
    "# encode symptoms\n",
    "train = encode_symtoms(train, train=True)\n",
    "\n",
    "feature_cols.remove('duration') \n",
    "feature_cols = feature_cols + ['Id']\n",
    "test = test.loc[:, feature_cols]\n",
    "# Process age feature\n",
    "test = process_age(test)\n",
    "# Process symptoms\n",
    "test = process_symptoms(test)\n",
    "# encode symptoms\n",
    "test = encode_symtoms(test, train=False)\n",
    "\n",
    "# Change test index to ID\n",
    "test.set_index('Id',drop=True,inplace=True)\n",
    "\n",
    "# remove outliers\n",
    "inx = train['duration'] < 25\n",
    "train = train.loc[inx,:]\n",
    "\n",
    "# extract y from train\n",
    "y = train.pop('duration')\n",
    "# Adjust train and test to have same columns\n",
    "trainColsToAdd = list(set(test.columns).difference(set(train.columns)))\n",
    "train[trainColsToAdd] = 0\n",
    "\n",
    "testColsToAdd = list(set(train.columns).difference(set(test.columns)))\n",
    "test[testColsToAdd] = 0\n",
    "\n",
    "ohe = OneHotEncoder()\n",
    "train = ohe.fit_transform(train)\n",
    "test = ohe.transform(test)\n",
    "combined = np.concatenate((train.values,test.values))"
   ]
  },
  {
   "cell_type": "markdown",
   "metadata": {},
   "source": [
    "## processing is complete\n",
    "at this point we have train and test datasets initialized to their desired format, now we can generate our k-fold CV sets from our training data and start training"
   ]
  },
  {
   "cell_type": "code",
   "execution_count": 106,
   "metadata": {},
   "outputs": [],
   "source": [
    "cols_to_drop = ['sex_3','sex_4','sex_5','country_2','country_4', 'country_5','country_7', 'country_8',\n",
    "       'country_9', 'country_10', 'country_11', 'country_12','province_1','province_9', 'province_10',\n",
    "       'province_11', 'province_12', 'province_13', 'province_14',\n",
    "       'province_15', 'province_16', 'province_17', 'province_18',\n",
    "       'province_19', 'province_20', 'province_21', 'province_22',\n",
    "       'province_23', 'province_24', 'province_25', 'province_26',\n",
    "       'province_27', 'province_28', 'province_29', 'province_30',\n",
    "       'province_31', 'province_32', 'province_33', 'province_34',\n",
    "       'province_35', 'province_36', 'province_37', 'province_38',\n",
    "       'province_39', 'province_40','V1_4','V1_5',\n",
    "       'V1_6', 'V1_7', 'V1_8', 'V1_9', 'V1_10', 'V1_11','poor physical condition',\n",
    "       ' vomiting', ' sputum', ' conjunctivitis', ' rhinorrhea', ' sneeze',' other symptoms',\n",
    "       ' pleural effusion', 'abdominal pain', 'anorexia', ' dizziness',\n",
    "       ' sneezing', ' joint pain', ' sore body', ' rhinorrhoea',\n",
    "       ' toothache','diarrhea','muscle pain', 'nausea',\n",
    "       'shortness/difficulty breathing', 'discomfort', 'fatigue',' dry mouth',\n",
    "       ' expectoration', ' runny nose', ' nasal congestion','malaise', 'weakness', 'chest pains','cold/chills',\n",
    "               'pneumonia','throat problems']\n",
    "train.drop(cols_to_drop,axis=1,inplace=True)\n",
    "test.drop(cols_to_drop, axis=1 , inplace=True)"
   ]
  },
  {
   "cell_type": "code",
   "execution_count": 107,
   "metadata": {},
   "outputs": [
    {
     "data": {
      "text/plain": [
       "(19,)"
      ]
     },
     "execution_count": 107,
     "metadata": {},
     "output_type": "execute_result"
    }
   ],
   "source": [
    "train.columns.shape"
   ]
  },
  {
   "cell_type": "code",
   "execution_count": 108,
   "metadata": {},
   "outputs": [],
   "source": [
    "from sklearn.model_selection import KFold\n",
    "from sklearn.linear_model import LinearRegression\n",
    "from sklearn.metrics import mean_squared_error\n",
    "from sklearn.model_selection import train_test_split"
   ]
  },
  {
   "cell_type": "code",
   "execution_count": 242,
   "metadata": {},
   "outputs": [
    {
     "data": {
      "text/plain": [
       "<AxesSubplot:title={'center':'Feature importance'}, xlabel='F score', ylabel='Features'>"
      ]
     },
     "execution_count": 242,
     "metadata": {},
     "output_type": "execute_result"
    },
    {
     "data": {
      "image/png": "[encoded data removed]",
      "text/plain": [
       "<Figure size 432x288 with 1 Axes>"
      ]
     },
     "metadata": {
      "needs_background": "light"
     },
     "output_type": "display_data"
    }
   ],
   "source": [
    "param = {}\n",
    "kf = KFold(n_splits = 5, random_state=1, shuffle=True)\n",
    "validated_rmses = []\n",
    "test_preds = []\n",
    "\n",
    "\n",
    "dtrain = xgb.DMatrix(train, label = y, feature_names = train.columns)\n",
    "bst = xgb.train(param, dtrain, num_boost_round=5)\n",
    "\n",
    "xgb.plot_importance(bst)"
   ]
  },
  {
   "cell_type": "code",
   "execution_count": 274,
   "metadata": {},
   "outputs": [
    {
     "data": {
      "image/png": "[encoded data removed]",
      "text/plain": [
       "<Figure size 576x360 with 1 Axes>"
      ]
     },
     "metadata": {
      "needs_background": "light"
     },
     "output_type": "display_data"
    }
   ],
   "source": [
    "param = {'objective':'reg:squarederror','eta':0.5,'gamma':6, 'max_depth':9, 'min_child_weight':40, 'max_delta_step':2, 'subsample':1, 'lambda':0.5, 'alpha': 5}\n",
    "\n",
    "dtrain = xgb.DMatrix(train, label = y, feature_names = train.columns)\n",
    "bst = xgb.train(param, dtrain, num_boost_round=10)\n",
    "\n",
    "fig,ax = plt.subplots(1,figsize=[8,5])\n",
    "xgb.plot_importance(bst,ax=ax,show_values = False,height = 0.4)\n",
    "plt.savefig('feature_importance.pdf',bbox_inches='tight')\n"
   ]
  },
  {
   "cell_type": "code",
   "execution_count": 260,
   "metadata": {},
   "outputs": [
    {
     "data": {
      "text/plain": [
       "<Figure size 432x288 with 0 Axes>"
      ]
     },
     "metadata": {},
     "output_type": "display_data"
    }
   ],
   "source": []
  },
  {
   "cell_type": "code",
   "execution_count": 56,
   "metadata": {},
   "outputs": [
    {
     "name": "stdout",
     "output_type": "stream",
     "text": [
      "cross_val RMSE = 4.047018156931779\n"
     ]
    }
   ],
   "source": [
    "kf = KFold(n_splits = 5, random_state=1, shuffle=True)\n",
    "linreg = LinearRegression()\n",
    "rmses = []\n",
    "test_preds = []\n",
    "\n",
    "\n",
    "for train_inx,val_inx in kf.split(train):\n",
    "    xTrain = train.values[train_inx]\n",
    "    yTrain = y.values[train_inx]\n",
    "    xVal = train.values[val_inx]\n",
    "    yVal = y.values[val_inx]\n",
    "\n",
    "    linreg.fit(xTrain,yTrain)\n",
    "    yPred = linreg.predict(xVal) \n",
    "    rmse = np.sqrt(mean_squared_error(yVal,yPred))\n",
    "    rmses.append(rmse)\n",
    "    \n",
    "    \n",
    "    test_pred = linreg.predict(test)\n",
    "    test_preds.append(test_pred)\n",
    "print(\"cross_val RMSE = %s\" % (sum(rmses)/len(rmses)))\n",
    "test_preds = np.array(test_preds)\n",
    "test_pred = test_preds.mean(axis=0)"
   ]
  },
  {
   "cell_type": "code",
   "execution_count": 232,
   "metadata": {},
   "outputs": [
    {
     "data": {
      "text/plain": [
       "[<matplotlib.lines.Line2D at 0x1ce2a06ba48>]"
      ]
     },
     "execution_count": 232,
     "metadata": {},
     "output_type": "execute_result"
    },
    {
     "data": {
      "image/png": "[encoded data removed]",
      "text/plain": [
       "<Figure size 432x288 with 1 Axes>"
      ]
     },
     "metadata": {
      "needs_background": "light"
     },
     "output_type": "display_data"
    }
   ],
   "source": [
    "import xgboost as xgb\n",
    "gammas = np.linspace(0,5.5,10)\n",
    "\n",
    "param_rmses = []\n",
    "\n",
    "for gamma in gammas:\n",
    "    param = {'objective':'reg:squarederror','eta':0.5,'gamma':10, 'max_depth':9, 'min_child_weight':40, 'max_delta_step':2, 'subsample':1, 'lambda':0.5, 'alpha': 5}\n",
    "    kf = KFold(n_splits = 5, random_state=1, shuffle=True)\n",
    "    validated_rmses = []\n",
    "    for train_inx, val_inx in kf.split(train):\n",
    "        xTrain = train.iloc[train_inx]\n",
    "        yTrain = y.values[train_inx]\n",
    "        xVal = train.iloc[val_inx]\n",
    "        yVal = y.values[val_inx]\n",
    "\n",
    "        dtrain = xgb.DMatrix(xTrain, label = yTrain, feature_names = xTrain.columns)\n",
    "        bst = xgb.train(param, dtrain, num_boost_round=5)\n",
    "\n",
    "        dval = xgb.DMatrix(xVal, label= yVal, feature_names= xVal.columns)\n",
    "        yPred = bst.predict(dval)\n",
    "        validated_rmses.append(np.sqrt(mean_squared_error(yVal,yPred)))\n",
    "\n",
    "\n",
    "    param_rmses.append(np.array(validated_rmses).mean())\n",
    "\n",
    "plt.plot(gammas,param_rmses,'o')"
   ]
  },
  {
   "cell_type": "code",
   "execution_count": 233,
   "metadata": {},
   "outputs": [],
   "source": [
    "param = {'objective':'reg:squarederror','eta':0.5,'gamma':6, 'max_depth':9, 'min_child_weight':40, 'max_delta_step':2, 'subsample':1, 'lambda':0.5, 'alpha': 5}\n",
    "kf = KFold(n_splits = 5, random_state=1, shuffle=True)\n",
    "validated_rmses = []\n",
    "test_preds = []\n",
    "\n",
    "\n",
    "dtrain = xgb.DMatrix(train, label = y, feature_names = train.columns)\n",
    "bst = xgb.train(param, dtrain, num_boost_round=5)\n",
    "\n",
    "dtest = xgb.DMatrix(test)\n",
    "test_pred = bst.predict(dtest)\n"
   ]
  },
  {
   "cell_type": "code",
   "execution_count": 57,
   "metadata": {},
   "outputs": [
    {
     "name": "stdout",
     "output_type": "stream",
     "text": [
      "cross_val RMSE = 4.022514286672876\n"
     ]
    }
   ],
   "source": [
    "kf = KFold(n_splits = 5, random_state=1, shuffle=True)\n",
    "linreg = RandomForestRegressor(n_estimators=75,max_samples=20, random_state=1,n_jobs=6)\n",
    "\n",
    "\n",
    "rmses = []\n",
    "test_preds = []\n",
    "\n",
    "\n",
    "for train_inx,val_inx in kf.split(train):\n",
    "    xTrain = train.values[train_inx]\n",
    "    yTrain = y.values[train_inx]\n",
    "    xVal = train.values[val_inx]\n",
    "    yVal = y.values[val_inx]\n",
    "\n",
    "    linreg.fit(xTrain,yTrain)\n",
    "    yPred = linreg.predict(xVal) \n",
    "    rmse = np.sqrt(mean_squared_error(yVal,yPred))\n",
    "    rmses.append(rmse)\n",
    "    \n",
    "    \n",
    "    test_pred = linreg.predict(test)\n",
    "    test_preds.append(test_pred)\n",
    "print(\"cross_val RMSE = %s\" % (sum(rmses)/len(rmses)))\n",
    "test_preds = np.array(test_preds)\n",
    "test_pred = test_preds.mean(axis=0)"
   ]
  },
  {
   "cell_type": "code",
   "execution_count": null,
   "metadata": {},
   "outputs": [],
   "source": [
    "# residual plots\n",
    "from yellowbrick.regressor.residuals import residuals_plot\n",
    "\n",
    "residuals_plot(model= linreg,X_train=xTrain, y_train=yTrain, X_test= xVal, y_test=yVal , is_fitted=True)\n"
   ]
  },
  {
   "cell_type": "code",
   "execution_count": null,
   "metadata": {},
   "outputs": [],
   "source": [
    "inx = (test_pred < 0)\n",
    "test_pred[inx] = 0"
   ]
  },
  {
   "cell_type": "code",
   "execution_count": 234,
   "metadata": {},
   "outputs": [
    {
     "data": {
      "text/html": [
       "<div>\n",
       "<style scoped>\n",
       "    .dataframe tbody tr th:only-of-type {\n",
       "        vertical-align: middle;\n",
       "    }\n",
       "\n",
       "    .dataframe tbody tr th {\n",
       "        vertical-align: top;\n",
       "    }\n",
       "\n",
       "    .dataframe thead th {\n",
       "        text-align: right;\n",
       "    }\n",
       "</style>\n",
       "<table border=\"1\" class=\"dataframe\">\n",
       "  <thead>\n",
       "    <tr style=\"text-align: right;\">\n",
       "      <th></th>\n",
       "      <th>duration</th>\n",
       "    </tr>\n",
       "  </thead>\n",
       "  <tbody>\n",
       "    <tr>\n",
       "      <th>count</th>\n",
       "      <td>200.000000</td>\n",
       "    </tr>\n",
       "    <tr>\n",
       "      <th>mean</th>\n",
       "      <td>3.954330</td>\n",
       "    </tr>\n",
       "    <tr>\n",
       "      <th>std</th>\n",
       "      <td>0.941347</td>\n",
       "    </tr>\n",
       "    <tr>\n",
       "      <th>min</th>\n",
       "      <td>2.356867</td>\n",
       "    </tr>\n",
       "    <tr>\n",
       "      <th>25%</th>\n",
       "      <td>3.502370</td>\n",
       "    </tr>\n",
       "    <tr>\n",
       "      <th>50%</th>\n",
       "      <td>4.100851</td>\n",
       "    </tr>\n",
       "    <tr>\n",
       "      <th>75%</th>\n",
       "      <td>4.500000</td>\n",
       "    </tr>\n",
       "    <tr>\n",
       "      <th>max</th>\n",
       "      <td>5.500000</td>\n",
       "    </tr>\n",
       "  </tbody>\n",
       "</table>\n",
       "</div>"
      ],
      "text/plain": [
       "         duration\n",
       "count  200.000000\n",
       "mean     3.954330\n",
       "std      0.941347\n",
       "min      2.356867\n",
       "25%      3.502370\n",
       "50%      4.100851\n",
       "75%      4.500000\n",
       "max      5.500000"
      ]
     },
     "execution_count": 234,
     "metadata": {},
     "output_type": "execute_result"
    }
   ],
   "source": [
    "sub = pd.DataFrame(test_pred, columns = ['duration'])\n",
    "sub.index.rename('Id',inplace=True)\n",
    "sub.index +=1\n",
    "\n",
    "sub.describe()"
   ]
  },
  {
   "cell_type": "code",
   "execution_count": 235,
   "metadata": {},
   "outputs": [],
   "source": [
    "sub.to_csv('kaggle_submission.txt')"
   ]
  },
  {
   "cell_type": "code",
   "execution_count": 224,
   "metadata": {},
   "outputs": [],
   "source": [
    "sub.to_csv('justin_xgboost_1_pred.txt')"
   ]
  }
 ],
 "metadata": {
  "kernelspec": {
   "display_name": "Python 3",
   "language": "python",
   "name": "python3"
  },
  "language_info": {
   "codemirror_mode": {
    "name": "ipython",
    "version": 3
   },
   "file_extension": ".py",
   "mimetype": "text/x-python",
   "name": "python",
   "nbconvert_exporter": "python",
   "pygments_lexer": "ipython3",
   "version": "3.7.9"
  }
 },
 "nbformat": 4,
 "nbformat_minor": 4
}
