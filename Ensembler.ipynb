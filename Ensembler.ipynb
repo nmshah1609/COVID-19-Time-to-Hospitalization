{
 "cells": [
  {
   "cell_type": "code",
   "execution_count": 2,
   "metadata": {},
   "outputs": [],
   "source": [
    "import os\n",
    "import glob\n",
    "import pandas as pd\n",
    "import numpy as np\n",
    "from matplotlib import pyplot as plt\n",
    "from itertools import compress"
   ]
  },
  {
   "cell_type": "code",
   "execution_count": 22,
   "metadata": {},
   "outputs": [
    {
     "data": {
      "text/plain": [
       "array([1, 1, 1, 1, 1, 1, 1, 1, 1, 1, 1, 1, 1, 1, 1, 1, 1, 1, 1, 1, 1, 1,\n",
       "       1, 1, 1, 1, 1, 1, 1, 1, 1, 1, 1, 1, 1, 1, 1])"
      ]
     },
     "execution_count": 22,
     "metadata": {},
     "output_type": "execute_result"
    }
   ],
   "source": [
    "index_arr = np.ones((37,),dtype=int)\n",
    "index_arr"
   ]
  },
  {
   "cell_type": "code",
   "execution_count": 30,
   "metadata": {},
   "outputs": [],
   "source": [
    "index_arr = [1,\n",
    "             0,\n",
    "             0,\n",
    "             1,\n",
    "             0,\n",
    "             0,\n",
    "             0,\n",
    "             1,\n",
    "             0,\n",
    "             1,\n",
    "             0,\n",
    "             0,\n",
    "             0,\n",
    "             1, #lm added\n",
    "             0,\n",
    "             0,\n",
    "             0,\n",
    "             1,\n",
    "             1,\n",
    "             1,\n",
    "             1, #start carl Ridge\n",
    "             1,\n",
    "             1,\n",
    "             1,\n",
    "             1,\n",
    "             1,\n",
    "             1,\n",
    "             1,\n",
    "             1,\n",
    "             1,\n",
    "             1,\n",
    "             1,\n",
    "             1,\n",
    "             1,\n",
    "             1,\n",
    "             1,\n",
    "             1\n",
    "            ]"
   ]
  },
  {
   "cell_type": "code",
   "execution_count": 31,
   "metadata": {},
   "outputs": [
    {
     "data": {
      "text/plain": [
       "['ensembles\\\\Carl_LASSO_10_pred.txt',\n",
       " 'ensembles\\\\Carl_LASSO_3_pred.txt',\n",
       " 'ensembles\\\\Carl_LASSO_7_pred.txt',\n",
       " 'ensembles\\\\Carl_LASSO_9_pred.txt',\n",
       " 'ensembles\\\\Carl_LM_3_pred.txt',\n",
       " 'ensembles\\\\Carl_LM_7_pred.txt',\n",
       " 'ensembles\\\\Carl_LM_8_pred.txt',\n",
       " 'ensembles\\\\Carl_LM_9_pred.txt',\n",
       " 'ensembles\\\\Carl_ridge_10_pred.txt',\n",
       " 'ensembles\\\\Carl_ridge_1_pred.txt',\n",
       " 'ensembles\\\\Carl_ridge_2_pred.txt',\n",
       " 'ensembles\\\\Carl_ridge_3_pred.txt',\n",
       " 'ensembles\\\\Carl_ridge_4_pred.txt',\n",
       " 'ensembles\\\\Carl_ridge_5_pred.txt',\n",
       " 'ensembles\\\\Carl_ridge_6_pred.txt',\n",
       " 'ensembles\\\\Carl_ridge_7_pred.txt',\n",
       " 'ensembles\\\\Carl_ridge_8_pred.txt',\n",
       " 'ensembles\\\\Carl_ridge_9_pred.txt',\n",
       " 'ensembles\\\\justin_BaggingRegressor_1_pred.txt',\n",
       " 'ensembles\\\\justin_BayesianRidge_1_pred.txt',\n",
       " 'ensembles\\\\justin_ElasticNet_1_pred.txt',\n",
       " 'ensembles\\\\justin_lasso_1_pred.txt',\n",
       " 'ensembles\\\\justin_lasso_2_pred.txt',\n",
       " 'ensembles\\\\justin_ridge_1_pred.txt',\n",
       " 'ensembles\\\\justin_xgboost_1_pred.txt']"
      ]
     },
     "execution_count": 31,
     "metadata": {},
     "output_type": "execute_result"
    }
   ],
   "source": [
    "list(compress(pred_names,index_arr))"
   ]
  },
  {
   "cell_type": "code",
   "execution_count": 32,
   "metadata": {},
   "outputs": [],
   "source": [
    "ensemble_dir = \"ensembles\"\n",
    "\n",
    "pred_names = glob.glob(ensemble_dir + '\\\\*.txt')\n",
    "\n",
    "pred_dfs = [pd.read_csv(path) for path in pred_names]\n",
    "\n",
    "arr = []\n",
    "preds = np.array([pred['duration'].values for pred in list(compress(pred_dfs,index_arr))])"
   ]
  },
  {
   "cell_type": "code",
   "execution_count": 33,
   "metadata": {},
   "outputs": [
    {
     "data": {
      "text/plain": [
       "(25, 200)"
      ]
     },
     "execution_count": 33,
     "metadata": {},
     "output_type": "execute_result"
    }
   ],
   "source": [
    "preds.shape"
   ]
  },
  {
   "cell_type": "code",
   "execution_count": 29,
   "metadata": {},
   "outputs": [
    {
     "data": {
      "text/plain": [
       "['Carl_LASSO_10_pred.txt',\n",
       " 'Carl_LASSO_3_pred.txt',\n",
       " 'Carl_LASSO_7_pred.txt',\n",
       " 'Carl_LASSO_9_pred.txt',\n",
       " 'Carl_LM_3_pred.txt',\n",
       " 'Carl_LM_7_pred.txt',\n",
       " 'Carl_LM_8_pred.txt',\n",
       " 'Carl_LM_9_pred.txt',\n",
       " 'Carl_ridge_10_pred.txt',\n",
       " 'Carl_ridge_1_pred.txt',\n",
       " 'Carl_ridge_2_pred.txt',\n",
       " 'Carl_ridge_3_pred.txt',\n",
       " 'Carl_ridge_4_pred.txt',\n",
       " 'Carl_ridge_5_pred.txt',\n",
       " 'Carl_ridge_6_pred.txt',\n",
       " 'Carl_ridge_7_pred.txt',\n",
       " 'Carl_ridge_8_pred.txt',\n",
       " 'Carl_ridge_9_pred.txt',\n",
       " 'justin_BaggingRegressor_1_pred.txt',\n",
       " 'justin_BayesianRidge_1_pred.txt',\n",
       " 'justin_ElasticNet_1_pred.txt',\n",
       " 'justin_lasso_1_pred.txt',\n",
       " 'justin_lasso_2_pred.txt',\n",
       " 'justin_ridge_1_pred.txt',\n",
       " 'justin_xgboost_1_pred.txt']"
      ]
     },
     "execution_count": 29,
     "metadata": {},
     "output_type": "execute_result"
    }
   ],
   "source": [
    "list(compress(os.listdir(ensemble_dir),index_arr))"
   ]
  },
  {
   "cell_type": "code",
   "execution_count": 19,
   "metadata": {},
   "outputs": [],
   "source": [
    "ensemble_prediction = preds.mean(axis=0)"
   ]
  },
  {
   "cell_type": "code",
   "execution_count": 20,
   "metadata": {},
   "outputs": [
    {
     "data": {
      "text/html": [
       "<div>\n",
       "<style scoped>\n",
       "    .dataframe tbody tr th:only-of-type {\n",
       "        vertical-align: middle;\n",
       "    }\n",
       "\n",
       "    .dataframe tbody tr th {\n",
       "        vertical-align: top;\n",
       "    }\n",
       "\n",
       "    .dataframe thead th {\n",
       "        text-align: right;\n",
       "    }\n",
       "</style>\n",
       "<table border=\"1\" class=\"dataframe\">\n",
       "  <thead>\n",
       "    <tr style=\"text-align: right;\">\n",
       "      <th></th>\n",
       "      <th>duration</th>\n",
       "    </tr>\n",
       "  </thead>\n",
       "  <tbody>\n",
       "    <tr>\n",
       "      <th>count</th>\n",
       "      <td>200.000000</td>\n",
       "    </tr>\n",
       "    <tr>\n",
       "      <th>mean</th>\n",
       "      <td>4.234267</td>\n",
       "    </tr>\n",
       "    <tr>\n",
       "      <th>std</th>\n",
       "      <td>1.400576</td>\n",
       "    </tr>\n",
       "    <tr>\n",
       "      <th>min</th>\n",
       "      <td>1.695030</td>\n",
       "    </tr>\n",
       "    <tr>\n",
       "      <th>25%</th>\n",
       "      <td>3.118316</td>\n",
       "    </tr>\n",
       "    <tr>\n",
       "      <th>50%</th>\n",
       "      <td>3.973201</td>\n",
       "    </tr>\n",
       "    <tr>\n",
       "      <th>75%</th>\n",
       "      <td>4.973162</td>\n",
       "    </tr>\n",
       "    <tr>\n",
       "      <th>max</th>\n",
       "      <td>10.408701</td>\n",
       "    </tr>\n",
       "  </tbody>\n",
       "</table>\n",
       "</div>"
      ],
      "text/plain": [
       "         duration\n",
       "count  200.000000\n",
       "mean     4.234267\n",
       "std      1.400576\n",
       "min      1.695030\n",
       "25%      3.118316\n",
       "50%      3.973201\n",
       "75%      4.973162\n",
       "max     10.408701"
      ]
     },
     "execution_count": 20,
     "metadata": {},
     "output_type": "execute_result"
    }
   ],
   "source": [
    "sub = pd.DataFrame(ensemble_prediction, columns = ['duration'])\n",
    "sub.index.rename('Id',inplace=True)\n",
    "sub.index +=1\n",
    "\n",
    "sub.describe()"
   ]
  },
  {
   "cell_type": "code",
   "execution_count": 21,
   "metadata": {},
   "outputs": [],
   "source": [
    "sub.to_csv('kaggle_submission_ensemble.txt')"
   ]
  },
  {
   "cell_type": "code",
   "execution_count": null,
   "metadata": {},
   "outputs": [],
   "source": []
  }
 ],
 "metadata": {
  "kernelspec": {
   "display_name": "Python 3",
   "language": "python",
   "name": "python3"
  },
  "language_info": {
   "codemirror_mode": {
    "name": "ipython",
    "version": 3
   },
   "file_extension": ".py",
   "mimetype": "text/x-python",
   "name": "python",
   "nbconvert_exporter": "python",
   "pygments_lexer": "ipython3",
   "version": "3.7.9"
  }
 },
 "nbformat": 4,
 "nbformat_minor": 4
}
